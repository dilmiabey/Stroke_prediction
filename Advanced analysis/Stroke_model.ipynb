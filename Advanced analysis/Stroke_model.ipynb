{
  "nbformat": 4,
  "nbformat_minor": 0,
  "metadata": {
    "colab": {
      "provenance": []
    },
    "kernelspec": {
      "name": "python3",
      "display_name": "Python 3"
    },
    "language_info": {
      "name": "python"
    }
  },
  "cells": [
    {
      "cell_type": "code",
      "execution_count": 1,
      "metadata": {
        "id": "QWws5CT5BPqf",
        "colab": {
          "base_uri": "https://localhost:8080/",
          "height": 261
        },
        "outputId": "5767a187-5398-49e2-c855-d971834fdcb8"
      },
      "outputs": [
        {
          "output_type": "execute_result",
          "data": {
            "text/plain": [
              "      id  gender   age  hypertension  heart_disease ever_married  \\\n",
              "0   9046    Male  67.0             0              1          Yes   \n",
              "1  51676  Female  61.0             0              0          Yes   \n",
              "2  31112    Male  80.0             0              1          Yes   \n",
              "3  60182  Female  49.0             0              0          Yes   \n",
              "4   1665  Female  79.0             1              0          Yes   \n",
              "\n",
              "       work_type Residence_type  avg_glucose_level   bmi   smoking_status  \\\n",
              "0        Private          Urban             228.69  36.6  formerly smoked   \n",
              "1  Self-employed          Rural             202.21   NaN     never smoked   \n",
              "2        Private          Rural             105.92  32.5     never smoked   \n",
              "3        Private          Urban             171.23  34.4           smokes   \n",
              "4  Self-employed          Rural             174.12  24.0     never smoked   \n",
              "\n",
              "   stroke  \n",
              "0       1  \n",
              "1       1  \n",
              "2       1  \n",
              "3       1  \n",
              "4       1  "
            ],
            "text/html": [
              "\n",
              "  <div id=\"df-006013b5-c72c-418d-91ce-76b5395f38a4\" class=\"colab-df-container\">\n",
              "    <div>\n",
              "<style scoped>\n",
              "    .dataframe tbody tr th:only-of-type {\n",
              "        vertical-align: middle;\n",
              "    }\n",
              "\n",
              "    .dataframe tbody tr th {\n",
              "        vertical-align: top;\n",
              "    }\n",
              "\n",
              "    .dataframe thead th {\n",
              "        text-align: right;\n",
              "    }\n",
              "</style>\n",
              "<table border=\"1\" class=\"dataframe\">\n",
              "  <thead>\n",
              "    <tr style=\"text-align: right;\">\n",
              "      <th></th>\n",
              "      <th>id</th>\n",
              "      <th>gender</th>\n",
              "      <th>age</th>\n",
              "      <th>hypertension</th>\n",
              "      <th>heart_disease</th>\n",
              "      <th>ever_married</th>\n",
              "      <th>work_type</th>\n",
              "      <th>Residence_type</th>\n",
              "      <th>avg_glucose_level</th>\n",
              "      <th>bmi</th>\n",
              "      <th>smoking_status</th>\n",
              "      <th>stroke</th>\n",
              "    </tr>\n",
              "  </thead>\n",
              "  <tbody>\n",
              "    <tr>\n",
              "      <th>0</th>\n",
              "      <td>9046</td>\n",
              "      <td>Male</td>\n",
              "      <td>67.0</td>\n",
              "      <td>0</td>\n",
              "      <td>1</td>\n",
              "      <td>Yes</td>\n",
              "      <td>Private</td>\n",
              "      <td>Urban</td>\n",
              "      <td>228.69</td>\n",
              "      <td>36.6</td>\n",
              "      <td>formerly smoked</td>\n",
              "      <td>1</td>\n",
              "    </tr>\n",
              "    <tr>\n",
              "      <th>1</th>\n",
              "      <td>51676</td>\n",
              "      <td>Female</td>\n",
              "      <td>61.0</td>\n",
              "      <td>0</td>\n",
              "      <td>0</td>\n",
              "      <td>Yes</td>\n",
              "      <td>Self-employed</td>\n",
              "      <td>Rural</td>\n",
              "      <td>202.21</td>\n",
              "      <td>NaN</td>\n",
              "      <td>never smoked</td>\n",
              "      <td>1</td>\n",
              "    </tr>\n",
              "    <tr>\n",
              "      <th>2</th>\n",
              "      <td>31112</td>\n",
              "      <td>Male</td>\n",
              "      <td>80.0</td>\n",
              "      <td>0</td>\n",
              "      <td>1</td>\n",
              "      <td>Yes</td>\n",
              "      <td>Private</td>\n",
              "      <td>Rural</td>\n",
              "      <td>105.92</td>\n",
              "      <td>32.5</td>\n",
              "      <td>never smoked</td>\n",
              "      <td>1</td>\n",
              "    </tr>\n",
              "    <tr>\n",
              "      <th>3</th>\n",
              "      <td>60182</td>\n",
              "      <td>Female</td>\n",
              "      <td>49.0</td>\n",
              "      <td>0</td>\n",
              "      <td>0</td>\n",
              "      <td>Yes</td>\n",
              "      <td>Private</td>\n",
              "      <td>Urban</td>\n",
              "      <td>171.23</td>\n",
              "      <td>34.4</td>\n",
              "      <td>smokes</td>\n",
              "      <td>1</td>\n",
              "    </tr>\n",
              "    <tr>\n",
              "      <th>4</th>\n",
              "      <td>1665</td>\n",
              "      <td>Female</td>\n",
              "      <td>79.0</td>\n",
              "      <td>1</td>\n",
              "      <td>0</td>\n",
              "      <td>Yes</td>\n",
              "      <td>Self-employed</td>\n",
              "      <td>Rural</td>\n",
              "      <td>174.12</td>\n",
              "      <td>24.0</td>\n",
              "      <td>never smoked</td>\n",
              "      <td>1</td>\n",
              "    </tr>\n",
              "  </tbody>\n",
              "</table>\n",
              "</div>\n",
              "    <div class=\"colab-df-buttons\">\n",
              "\n",
              "  <div class=\"colab-df-container\">\n",
              "    <button class=\"colab-df-convert\" onclick=\"convertToInteractive('df-006013b5-c72c-418d-91ce-76b5395f38a4')\"\n",
              "            title=\"Convert this dataframe to an interactive table.\"\n",
              "            style=\"display:none;\">\n",
              "\n",
              "  <svg xmlns=\"http://www.w3.org/2000/svg\" height=\"24px\" viewBox=\"0 -960 960 960\">\n",
              "    <path d=\"M120-120v-720h720v720H120Zm60-500h600v-160H180v160Zm220 220h160v-160H400v160Zm0 220h160v-160H400v160ZM180-400h160v-160H180v160Zm440 0h160v-160H620v160ZM180-180h160v-160H180v160Zm440 0h160v-160H620v160Z\"/>\n",
              "  </svg>\n",
              "    </button>\n",
              "\n",
              "  <style>\n",
              "    .colab-df-container {\n",
              "      display:flex;\n",
              "      gap: 12px;\n",
              "    }\n",
              "\n",
              "    .colab-df-convert {\n",
              "      background-color: #E8F0FE;\n",
              "      border: none;\n",
              "      border-radius: 50%;\n",
              "      cursor: pointer;\n",
              "      display: none;\n",
              "      fill: #1967D2;\n",
              "      height: 32px;\n",
              "      padding: 0 0 0 0;\n",
              "      width: 32px;\n",
              "    }\n",
              "\n",
              "    .colab-df-convert:hover {\n",
              "      background-color: #E2EBFA;\n",
              "      box-shadow: 0px 1px 2px rgba(60, 64, 67, 0.3), 0px 1px 3px 1px rgba(60, 64, 67, 0.15);\n",
              "      fill: #174EA6;\n",
              "    }\n",
              "\n",
              "    .colab-df-buttons div {\n",
              "      margin-bottom: 4px;\n",
              "    }\n",
              "\n",
              "    [theme=dark] .colab-df-convert {\n",
              "      background-color: #3B4455;\n",
              "      fill: #D2E3FC;\n",
              "    }\n",
              "\n",
              "    [theme=dark] .colab-df-convert:hover {\n",
              "      background-color: #434B5C;\n",
              "      box-shadow: 0px 1px 3px 1px rgba(0, 0, 0, 0.15);\n",
              "      filter: drop-shadow(0px 1px 2px rgba(0, 0, 0, 0.3));\n",
              "      fill: #FFFFFF;\n",
              "    }\n",
              "  </style>\n",
              "\n",
              "    <script>\n",
              "      const buttonEl =\n",
              "        document.querySelector('#df-006013b5-c72c-418d-91ce-76b5395f38a4 button.colab-df-convert');\n",
              "      buttonEl.style.display =\n",
              "        google.colab.kernel.accessAllowed ? 'block' : 'none';\n",
              "\n",
              "      async function convertToInteractive(key) {\n",
              "        const element = document.querySelector('#df-006013b5-c72c-418d-91ce-76b5395f38a4');\n",
              "        const dataTable =\n",
              "          await google.colab.kernel.invokeFunction('convertToInteractive',\n",
              "                                                    [key], {});\n",
              "        if (!dataTable) return;\n",
              "\n",
              "        const docLinkHtml = 'Like what you see? Visit the ' +\n",
              "          '<a target=\"_blank\" href=https://colab.research.google.com/notebooks/data_table.ipynb>data table notebook</a>'\n",
              "          + ' to learn more about interactive tables.';\n",
              "        element.innerHTML = '';\n",
              "        dataTable['output_type'] = 'display_data';\n",
              "        await google.colab.output.renderOutput(dataTable, element);\n",
              "        const docLink = document.createElement('div');\n",
              "        docLink.innerHTML = docLinkHtml;\n",
              "        element.appendChild(docLink);\n",
              "      }\n",
              "    </script>\n",
              "  </div>\n",
              "\n",
              "\n",
              "<div id=\"df-a0097850-09b7-4332-b358-5db2b5e4b646\">\n",
              "  <button class=\"colab-df-quickchart\" onclick=\"quickchart('df-a0097850-09b7-4332-b358-5db2b5e4b646')\"\n",
              "            title=\"Suggest charts\"\n",
              "            style=\"display:none;\">\n",
              "\n",
              "<svg xmlns=\"http://www.w3.org/2000/svg\" height=\"24px\"viewBox=\"0 0 24 24\"\n",
              "     width=\"24px\">\n",
              "    <g>\n",
              "        <path d=\"M19 3H5c-1.1 0-2 .9-2 2v14c0 1.1.9 2 2 2h14c1.1 0 2-.9 2-2V5c0-1.1-.9-2-2-2zM9 17H7v-7h2v7zm4 0h-2V7h2v10zm4 0h-2v-4h2v4z\"/>\n",
              "    </g>\n",
              "</svg>\n",
              "  </button>\n",
              "\n",
              "<style>\n",
              "  .colab-df-quickchart {\n",
              "      --bg-color: #E8F0FE;\n",
              "      --fill-color: #1967D2;\n",
              "      --hover-bg-color: #E2EBFA;\n",
              "      --hover-fill-color: #174EA6;\n",
              "      --disabled-fill-color: #AAA;\n",
              "      --disabled-bg-color: #DDD;\n",
              "  }\n",
              "\n",
              "  [theme=dark] .colab-df-quickchart {\n",
              "      --bg-color: #3B4455;\n",
              "      --fill-color: #D2E3FC;\n",
              "      --hover-bg-color: #434B5C;\n",
              "      --hover-fill-color: #FFFFFF;\n",
              "      --disabled-bg-color: #3B4455;\n",
              "      --disabled-fill-color: #666;\n",
              "  }\n",
              "\n",
              "  .colab-df-quickchart {\n",
              "    background-color: var(--bg-color);\n",
              "    border: none;\n",
              "    border-radius: 50%;\n",
              "    cursor: pointer;\n",
              "    display: none;\n",
              "    fill: var(--fill-color);\n",
              "    height: 32px;\n",
              "    padding: 0;\n",
              "    width: 32px;\n",
              "  }\n",
              "\n",
              "  .colab-df-quickchart:hover {\n",
              "    background-color: var(--hover-bg-color);\n",
              "    box-shadow: 0 1px 2px rgba(60, 64, 67, 0.3), 0 1px 3px 1px rgba(60, 64, 67, 0.15);\n",
              "    fill: var(--button-hover-fill-color);\n",
              "  }\n",
              "\n",
              "  .colab-df-quickchart-complete:disabled,\n",
              "  .colab-df-quickchart-complete:disabled:hover {\n",
              "    background-color: var(--disabled-bg-color);\n",
              "    fill: var(--disabled-fill-color);\n",
              "    box-shadow: none;\n",
              "  }\n",
              "\n",
              "  .colab-df-spinner {\n",
              "    border: 2px solid var(--fill-color);\n",
              "    border-color: transparent;\n",
              "    border-bottom-color: var(--fill-color);\n",
              "    animation:\n",
              "      spin 1s steps(1) infinite;\n",
              "  }\n",
              "\n",
              "  @keyframes spin {\n",
              "    0% {\n",
              "      border-color: transparent;\n",
              "      border-bottom-color: var(--fill-color);\n",
              "      border-left-color: var(--fill-color);\n",
              "    }\n",
              "    20% {\n",
              "      border-color: transparent;\n",
              "      border-left-color: var(--fill-color);\n",
              "      border-top-color: var(--fill-color);\n",
              "    }\n",
              "    30% {\n",
              "      border-color: transparent;\n",
              "      border-left-color: var(--fill-color);\n",
              "      border-top-color: var(--fill-color);\n",
              "      border-right-color: var(--fill-color);\n",
              "    }\n",
              "    40% {\n",
              "      border-color: transparent;\n",
              "      border-right-color: var(--fill-color);\n",
              "      border-top-color: var(--fill-color);\n",
              "    }\n",
              "    60% {\n",
              "      border-color: transparent;\n",
              "      border-right-color: var(--fill-color);\n",
              "    }\n",
              "    80% {\n",
              "      border-color: transparent;\n",
              "      border-right-color: var(--fill-color);\n",
              "      border-bottom-color: var(--fill-color);\n",
              "    }\n",
              "    90% {\n",
              "      border-color: transparent;\n",
              "      border-bottom-color: var(--fill-color);\n",
              "    }\n",
              "  }\n",
              "</style>\n",
              "\n",
              "  <script>\n",
              "    async function quickchart(key) {\n",
              "      const quickchartButtonEl =\n",
              "        document.querySelector('#' + key + ' button');\n",
              "      quickchartButtonEl.disabled = true;  // To prevent multiple clicks.\n",
              "      quickchartButtonEl.classList.add('colab-df-spinner');\n",
              "      try {\n",
              "        const charts = await google.colab.kernel.invokeFunction(\n",
              "            'suggestCharts', [key], {});\n",
              "      } catch (error) {\n",
              "        console.error('Error during call to suggestCharts:', error);\n",
              "      }\n",
              "      quickchartButtonEl.classList.remove('colab-df-spinner');\n",
              "      quickchartButtonEl.classList.add('colab-df-quickchart-complete');\n",
              "    }\n",
              "    (() => {\n",
              "      let quickchartButtonEl =\n",
              "        document.querySelector('#df-a0097850-09b7-4332-b358-5db2b5e4b646 button');\n",
              "      quickchartButtonEl.style.display =\n",
              "        google.colab.kernel.accessAllowed ? 'block' : 'none';\n",
              "    })();\n",
              "  </script>\n",
              "</div>\n",
              "    </div>\n",
              "  </div>\n"
            ],
            "application/vnd.google.colaboratory.intrinsic+json": {
              "type": "dataframe",
              "variable_name": "data",
              "summary": "{\n  \"name\": \"data\",\n  \"rows\": 5110,\n  \"fields\": [\n    {\n      \"column\": \"id\",\n      \"properties\": {\n        \"dtype\": \"number\",\n        \"std\": 21161,\n        \"min\": 67,\n        \"max\": 72940,\n        \"num_unique_values\": 5110,\n        \"samples\": [\n          40041,\n          55244,\n          70992\n        ],\n        \"semantic_type\": \"\",\n        \"description\": \"\"\n      }\n    },\n    {\n      \"column\": \"gender\",\n      \"properties\": {\n        \"dtype\": \"category\",\n        \"num_unique_values\": 3,\n        \"samples\": [\n          \"Male\",\n          \"Female\",\n          \"Other\"\n        ],\n        \"semantic_type\": \"\",\n        \"description\": \"\"\n      }\n    },\n    {\n      \"column\": \"age\",\n      \"properties\": {\n        \"dtype\": \"number\",\n        \"std\": 22.61264672311349,\n        \"min\": 0.08,\n        \"max\": 82.0,\n        \"num_unique_values\": 104,\n        \"samples\": [\n          45.0,\n          24.0,\n          33.0\n        ],\n        \"semantic_type\": \"\",\n        \"description\": \"\"\n      }\n    },\n    {\n      \"column\": \"hypertension\",\n      \"properties\": {\n        \"dtype\": \"number\",\n        \"std\": 0,\n        \"min\": 0,\n        \"max\": 1,\n        \"num_unique_values\": 2,\n        \"samples\": [\n          1,\n          0\n        ],\n        \"semantic_type\": \"\",\n        \"description\": \"\"\n      }\n    },\n    {\n      \"column\": \"heart_disease\",\n      \"properties\": {\n        \"dtype\": \"number\",\n        \"std\": 0,\n        \"min\": 0,\n        \"max\": 1,\n        \"num_unique_values\": 2,\n        \"samples\": [\n          0,\n          1\n        ],\n        \"semantic_type\": \"\",\n        \"description\": \"\"\n      }\n    },\n    {\n      \"column\": \"ever_married\",\n      \"properties\": {\n        \"dtype\": \"category\",\n        \"num_unique_values\": 2,\n        \"samples\": [\n          \"No\",\n          \"Yes\"\n        ],\n        \"semantic_type\": \"\",\n        \"description\": \"\"\n      }\n    },\n    {\n      \"column\": \"work_type\",\n      \"properties\": {\n        \"dtype\": \"category\",\n        \"num_unique_values\": 5,\n        \"samples\": [\n          \"Self-employed\",\n          \"Never_worked\"\n        ],\n        \"semantic_type\": \"\",\n        \"description\": \"\"\n      }\n    },\n    {\n      \"column\": \"Residence_type\",\n      \"properties\": {\n        \"dtype\": \"category\",\n        \"num_unique_values\": 2,\n        \"samples\": [\n          \"Rural\",\n          \"Urban\"\n        ],\n        \"semantic_type\": \"\",\n        \"description\": \"\"\n      }\n    },\n    {\n      \"column\": \"avg_glucose_level\",\n      \"properties\": {\n        \"dtype\": \"number\",\n        \"std\": 45.28356015058198,\n        \"min\": 55.12,\n        \"max\": 271.74,\n        \"num_unique_values\": 3979,\n        \"samples\": [\n          178.29,\n          156.69\n        ],\n        \"semantic_type\": \"\",\n        \"description\": \"\"\n      }\n    },\n    {\n      \"column\": \"bmi\",\n      \"properties\": {\n        \"dtype\": \"number\",\n        \"std\": 7.854066729680164,\n        \"min\": 10.3,\n        \"max\": 97.6,\n        \"num_unique_values\": 418,\n        \"samples\": [\n          49.5,\n          18.5\n        ],\n        \"semantic_type\": \"\",\n        \"description\": \"\"\n      }\n    },\n    {\n      \"column\": \"smoking_status\",\n      \"properties\": {\n        \"dtype\": \"category\",\n        \"num_unique_values\": 4,\n        \"samples\": [\n          \"never smoked\",\n          \"Unknown\"\n        ],\n        \"semantic_type\": \"\",\n        \"description\": \"\"\n      }\n    },\n    {\n      \"column\": \"stroke\",\n      \"properties\": {\n        \"dtype\": \"number\",\n        \"std\": 0,\n        \"min\": 0,\n        \"max\": 1,\n        \"num_unique_values\": 2,\n        \"samples\": [\n          0,\n          1\n        ],\n        \"semantic_type\": \"\",\n        \"description\": \"\"\n      }\n    }\n  ]\n}"
            }
          },
          "metadata": {},
          "execution_count": 1
        }
      ],
      "source": [
        "import pandas as pd\n",
        "import numpy as np\n",
        "data = pd.read_csv('healthcare-dataset-stroke-data.csv')\n",
        "data = data.drop_duplicates()\n",
        "data.head()\n"
      ]
    },
    {
      "cell_type": "code",
      "source": [
        "data.drop(columns=['id'], inplace=True)\n",
        "data.head()"
      ],
      "metadata": {
        "colab": {
          "base_uri": "https://localhost:8080/",
          "height": 261
        },
        "id": "ux4-cAie0XkM",
        "outputId": "f52fc8f9-40a9-4ea1-f313-fa17081d6bde"
      },
      "execution_count": 2,
      "outputs": [
        {
          "output_type": "execute_result",
          "data": {
            "text/plain": [
              "   gender   age  hypertension  heart_disease ever_married      work_type  \\\n",
              "0    Male  67.0             0              1          Yes        Private   \n",
              "1  Female  61.0             0              0          Yes  Self-employed   \n",
              "2    Male  80.0             0              1          Yes        Private   \n",
              "3  Female  49.0             0              0          Yes        Private   \n",
              "4  Female  79.0             1              0          Yes  Self-employed   \n",
              "\n",
              "  Residence_type  avg_glucose_level   bmi   smoking_status  stroke  \n",
              "0          Urban             228.69  36.6  formerly smoked       1  \n",
              "1          Rural             202.21   NaN     never smoked       1  \n",
              "2          Rural             105.92  32.5     never smoked       1  \n",
              "3          Urban             171.23  34.4           smokes       1  \n",
              "4          Rural             174.12  24.0     never smoked       1  "
            ],
            "text/html": [
              "\n",
              "  <div id=\"df-17848540-9672-419e-abc9-cbce1394c3cb\" class=\"colab-df-container\">\n",
              "    <div>\n",
              "<style scoped>\n",
              "    .dataframe tbody tr th:only-of-type {\n",
              "        vertical-align: middle;\n",
              "    }\n",
              "\n",
              "    .dataframe tbody tr th {\n",
              "        vertical-align: top;\n",
              "    }\n",
              "\n",
              "    .dataframe thead th {\n",
              "        text-align: right;\n",
              "    }\n",
              "</style>\n",
              "<table border=\"1\" class=\"dataframe\">\n",
              "  <thead>\n",
              "    <tr style=\"text-align: right;\">\n",
              "      <th></th>\n",
              "      <th>gender</th>\n",
              "      <th>age</th>\n",
              "      <th>hypertension</th>\n",
              "      <th>heart_disease</th>\n",
              "      <th>ever_married</th>\n",
              "      <th>work_type</th>\n",
              "      <th>Residence_type</th>\n",
              "      <th>avg_glucose_level</th>\n",
              "      <th>bmi</th>\n",
              "      <th>smoking_status</th>\n",
              "      <th>stroke</th>\n",
              "    </tr>\n",
              "  </thead>\n",
              "  <tbody>\n",
              "    <tr>\n",
              "      <th>0</th>\n",
              "      <td>Male</td>\n",
              "      <td>67.0</td>\n",
              "      <td>0</td>\n",
              "      <td>1</td>\n",
              "      <td>Yes</td>\n",
              "      <td>Private</td>\n",
              "      <td>Urban</td>\n",
              "      <td>228.69</td>\n",
              "      <td>36.6</td>\n",
              "      <td>formerly smoked</td>\n",
              "      <td>1</td>\n",
              "    </tr>\n",
              "    <tr>\n",
              "      <th>1</th>\n",
              "      <td>Female</td>\n",
              "      <td>61.0</td>\n",
              "      <td>0</td>\n",
              "      <td>0</td>\n",
              "      <td>Yes</td>\n",
              "      <td>Self-employed</td>\n",
              "      <td>Rural</td>\n",
              "      <td>202.21</td>\n",
              "      <td>NaN</td>\n",
              "      <td>never smoked</td>\n",
              "      <td>1</td>\n",
              "    </tr>\n",
              "    <tr>\n",
              "      <th>2</th>\n",
              "      <td>Male</td>\n",
              "      <td>80.0</td>\n",
              "      <td>0</td>\n",
              "      <td>1</td>\n",
              "      <td>Yes</td>\n",
              "      <td>Private</td>\n",
              "      <td>Rural</td>\n",
              "      <td>105.92</td>\n",
              "      <td>32.5</td>\n",
              "      <td>never smoked</td>\n",
              "      <td>1</td>\n",
              "    </tr>\n",
              "    <tr>\n",
              "      <th>3</th>\n",
              "      <td>Female</td>\n",
              "      <td>49.0</td>\n",
              "      <td>0</td>\n",
              "      <td>0</td>\n",
              "      <td>Yes</td>\n",
              "      <td>Private</td>\n",
              "      <td>Urban</td>\n",
              "      <td>171.23</td>\n",
              "      <td>34.4</td>\n",
              "      <td>smokes</td>\n",
              "      <td>1</td>\n",
              "    </tr>\n",
              "    <tr>\n",
              "      <th>4</th>\n",
              "      <td>Female</td>\n",
              "      <td>79.0</td>\n",
              "      <td>1</td>\n",
              "      <td>0</td>\n",
              "      <td>Yes</td>\n",
              "      <td>Self-employed</td>\n",
              "      <td>Rural</td>\n",
              "      <td>174.12</td>\n",
              "      <td>24.0</td>\n",
              "      <td>never smoked</td>\n",
              "      <td>1</td>\n",
              "    </tr>\n",
              "  </tbody>\n",
              "</table>\n",
              "</div>\n",
              "    <div class=\"colab-df-buttons\">\n",
              "\n",
              "  <div class=\"colab-df-container\">\n",
              "    <button class=\"colab-df-convert\" onclick=\"convertToInteractive('df-17848540-9672-419e-abc9-cbce1394c3cb')\"\n",
              "            title=\"Convert this dataframe to an interactive table.\"\n",
              "            style=\"display:none;\">\n",
              "\n",
              "  <svg xmlns=\"http://www.w3.org/2000/svg\" height=\"24px\" viewBox=\"0 -960 960 960\">\n",
              "    <path d=\"M120-120v-720h720v720H120Zm60-500h600v-160H180v160Zm220 220h160v-160H400v160Zm0 220h160v-160H400v160ZM180-400h160v-160H180v160Zm440 0h160v-160H620v160ZM180-180h160v-160H180v160Zm440 0h160v-160H620v160Z\"/>\n",
              "  </svg>\n",
              "    </button>\n",
              "\n",
              "  <style>\n",
              "    .colab-df-container {\n",
              "      display:flex;\n",
              "      gap: 12px;\n",
              "    }\n",
              "\n",
              "    .colab-df-convert {\n",
              "      background-color: #E8F0FE;\n",
              "      border: none;\n",
              "      border-radius: 50%;\n",
              "      cursor: pointer;\n",
              "      display: none;\n",
              "      fill: #1967D2;\n",
              "      height: 32px;\n",
              "      padding: 0 0 0 0;\n",
              "      width: 32px;\n",
              "    }\n",
              "\n",
              "    .colab-df-convert:hover {\n",
              "      background-color: #E2EBFA;\n",
              "      box-shadow: 0px 1px 2px rgba(60, 64, 67, 0.3), 0px 1px 3px 1px rgba(60, 64, 67, 0.15);\n",
              "      fill: #174EA6;\n",
              "    }\n",
              "\n",
              "    .colab-df-buttons div {\n",
              "      margin-bottom: 4px;\n",
              "    }\n",
              "\n",
              "    [theme=dark] .colab-df-convert {\n",
              "      background-color: #3B4455;\n",
              "      fill: #D2E3FC;\n",
              "    }\n",
              "\n",
              "    [theme=dark] .colab-df-convert:hover {\n",
              "      background-color: #434B5C;\n",
              "      box-shadow: 0px 1px 3px 1px rgba(0, 0, 0, 0.15);\n",
              "      filter: drop-shadow(0px 1px 2px rgba(0, 0, 0, 0.3));\n",
              "      fill: #FFFFFF;\n",
              "    }\n",
              "  </style>\n",
              "\n",
              "    <script>\n",
              "      const buttonEl =\n",
              "        document.querySelector('#df-17848540-9672-419e-abc9-cbce1394c3cb button.colab-df-convert');\n",
              "      buttonEl.style.display =\n",
              "        google.colab.kernel.accessAllowed ? 'block' : 'none';\n",
              "\n",
              "      async function convertToInteractive(key) {\n",
              "        const element = document.querySelector('#df-17848540-9672-419e-abc9-cbce1394c3cb');\n",
              "        const dataTable =\n",
              "          await google.colab.kernel.invokeFunction('convertToInteractive',\n",
              "                                                    [key], {});\n",
              "        if (!dataTable) return;\n",
              "\n",
              "        const docLinkHtml = 'Like what you see? Visit the ' +\n",
              "          '<a target=\"_blank\" href=https://colab.research.google.com/notebooks/data_table.ipynb>data table notebook</a>'\n",
              "          + ' to learn more about interactive tables.';\n",
              "        element.innerHTML = '';\n",
              "        dataTable['output_type'] = 'display_data';\n",
              "        await google.colab.output.renderOutput(dataTable, element);\n",
              "        const docLink = document.createElement('div');\n",
              "        docLink.innerHTML = docLinkHtml;\n",
              "        element.appendChild(docLink);\n",
              "      }\n",
              "    </script>\n",
              "  </div>\n",
              "\n",
              "\n",
              "<div id=\"df-4afc3c80-d82d-4b34-bcfa-4c2f2c72baad\">\n",
              "  <button class=\"colab-df-quickchart\" onclick=\"quickchart('df-4afc3c80-d82d-4b34-bcfa-4c2f2c72baad')\"\n",
              "            title=\"Suggest charts\"\n",
              "            style=\"display:none;\">\n",
              "\n",
              "<svg xmlns=\"http://www.w3.org/2000/svg\" height=\"24px\"viewBox=\"0 0 24 24\"\n",
              "     width=\"24px\">\n",
              "    <g>\n",
              "        <path d=\"M19 3H5c-1.1 0-2 .9-2 2v14c0 1.1.9 2 2 2h14c1.1 0 2-.9 2-2V5c0-1.1-.9-2-2-2zM9 17H7v-7h2v7zm4 0h-2V7h2v10zm4 0h-2v-4h2v4z\"/>\n",
              "    </g>\n",
              "</svg>\n",
              "  </button>\n",
              "\n",
              "<style>\n",
              "  .colab-df-quickchart {\n",
              "      --bg-color: #E8F0FE;\n",
              "      --fill-color: #1967D2;\n",
              "      --hover-bg-color: #E2EBFA;\n",
              "      --hover-fill-color: #174EA6;\n",
              "      --disabled-fill-color: #AAA;\n",
              "      --disabled-bg-color: #DDD;\n",
              "  }\n",
              "\n",
              "  [theme=dark] .colab-df-quickchart {\n",
              "      --bg-color: #3B4455;\n",
              "      --fill-color: #D2E3FC;\n",
              "      --hover-bg-color: #434B5C;\n",
              "      --hover-fill-color: #FFFFFF;\n",
              "      --disabled-bg-color: #3B4455;\n",
              "      --disabled-fill-color: #666;\n",
              "  }\n",
              "\n",
              "  .colab-df-quickchart {\n",
              "    background-color: var(--bg-color);\n",
              "    border: none;\n",
              "    border-radius: 50%;\n",
              "    cursor: pointer;\n",
              "    display: none;\n",
              "    fill: var(--fill-color);\n",
              "    height: 32px;\n",
              "    padding: 0;\n",
              "    width: 32px;\n",
              "  }\n",
              "\n",
              "  .colab-df-quickchart:hover {\n",
              "    background-color: var(--hover-bg-color);\n",
              "    box-shadow: 0 1px 2px rgba(60, 64, 67, 0.3), 0 1px 3px 1px rgba(60, 64, 67, 0.15);\n",
              "    fill: var(--button-hover-fill-color);\n",
              "  }\n",
              "\n",
              "  .colab-df-quickchart-complete:disabled,\n",
              "  .colab-df-quickchart-complete:disabled:hover {\n",
              "    background-color: var(--disabled-bg-color);\n",
              "    fill: var(--disabled-fill-color);\n",
              "    box-shadow: none;\n",
              "  }\n",
              "\n",
              "  .colab-df-spinner {\n",
              "    border: 2px solid var(--fill-color);\n",
              "    border-color: transparent;\n",
              "    border-bottom-color: var(--fill-color);\n",
              "    animation:\n",
              "      spin 1s steps(1) infinite;\n",
              "  }\n",
              "\n",
              "  @keyframes spin {\n",
              "    0% {\n",
              "      border-color: transparent;\n",
              "      border-bottom-color: var(--fill-color);\n",
              "      border-left-color: var(--fill-color);\n",
              "    }\n",
              "    20% {\n",
              "      border-color: transparent;\n",
              "      border-left-color: var(--fill-color);\n",
              "      border-top-color: var(--fill-color);\n",
              "    }\n",
              "    30% {\n",
              "      border-color: transparent;\n",
              "      border-left-color: var(--fill-color);\n",
              "      border-top-color: var(--fill-color);\n",
              "      border-right-color: var(--fill-color);\n",
              "    }\n",
              "    40% {\n",
              "      border-color: transparent;\n",
              "      border-right-color: var(--fill-color);\n",
              "      border-top-color: var(--fill-color);\n",
              "    }\n",
              "    60% {\n",
              "      border-color: transparent;\n",
              "      border-right-color: var(--fill-color);\n",
              "    }\n",
              "    80% {\n",
              "      border-color: transparent;\n",
              "      border-right-color: var(--fill-color);\n",
              "      border-bottom-color: var(--fill-color);\n",
              "    }\n",
              "    90% {\n",
              "      border-color: transparent;\n",
              "      border-bottom-color: var(--fill-color);\n",
              "    }\n",
              "  }\n",
              "</style>\n",
              "\n",
              "  <script>\n",
              "    async function quickchart(key) {\n",
              "      const quickchartButtonEl =\n",
              "        document.querySelector('#' + key + ' button');\n",
              "      quickchartButtonEl.disabled = true;  // To prevent multiple clicks.\n",
              "      quickchartButtonEl.classList.add('colab-df-spinner');\n",
              "      try {\n",
              "        const charts = await google.colab.kernel.invokeFunction(\n",
              "            'suggestCharts', [key], {});\n",
              "      } catch (error) {\n",
              "        console.error('Error during call to suggestCharts:', error);\n",
              "      }\n",
              "      quickchartButtonEl.classList.remove('colab-df-spinner');\n",
              "      quickchartButtonEl.classList.add('colab-df-quickchart-complete');\n",
              "    }\n",
              "    (() => {\n",
              "      let quickchartButtonEl =\n",
              "        document.querySelector('#df-4afc3c80-d82d-4b34-bcfa-4c2f2c72baad button');\n",
              "      quickchartButtonEl.style.display =\n",
              "        google.colab.kernel.accessAllowed ? 'block' : 'none';\n",
              "    })();\n",
              "  </script>\n",
              "</div>\n",
              "    </div>\n",
              "  </div>\n"
            ],
            "application/vnd.google.colaboratory.intrinsic+json": {
              "type": "dataframe",
              "variable_name": "data",
              "summary": "{\n  \"name\": \"data\",\n  \"rows\": 5110,\n  \"fields\": [\n    {\n      \"column\": \"gender\",\n      \"properties\": {\n        \"dtype\": \"category\",\n        \"num_unique_values\": 3,\n        \"samples\": [\n          \"Male\",\n          \"Female\",\n          \"Other\"\n        ],\n        \"semantic_type\": \"\",\n        \"description\": \"\"\n      }\n    },\n    {\n      \"column\": \"age\",\n      \"properties\": {\n        \"dtype\": \"number\",\n        \"std\": 22.61264672311349,\n        \"min\": 0.08,\n        \"max\": 82.0,\n        \"num_unique_values\": 104,\n        \"samples\": [\n          45.0,\n          24.0,\n          33.0\n        ],\n        \"semantic_type\": \"\",\n        \"description\": \"\"\n      }\n    },\n    {\n      \"column\": \"hypertension\",\n      \"properties\": {\n        \"dtype\": \"number\",\n        \"std\": 0,\n        \"min\": 0,\n        \"max\": 1,\n        \"num_unique_values\": 2,\n        \"samples\": [\n          1,\n          0\n        ],\n        \"semantic_type\": \"\",\n        \"description\": \"\"\n      }\n    },\n    {\n      \"column\": \"heart_disease\",\n      \"properties\": {\n        \"dtype\": \"number\",\n        \"std\": 0,\n        \"min\": 0,\n        \"max\": 1,\n        \"num_unique_values\": 2,\n        \"samples\": [\n          0,\n          1\n        ],\n        \"semantic_type\": \"\",\n        \"description\": \"\"\n      }\n    },\n    {\n      \"column\": \"ever_married\",\n      \"properties\": {\n        \"dtype\": \"category\",\n        \"num_unique_values\": 2,\n        \"samples\": [\n          \"No\",\n          \"Yes\"\n        ],\n        \"semantic_type\": \"\",\n        \"description\": \"\"\n      }\n    },\n    {\n      \"column\": \"work_type\",\n      \"properties\": {\n        \"dtype\": \"category\",\n        \"num_unique_values\": 5,\n        \"samples\": [\n          \"Self-employed\",\n          \"Never_worked\"\n        ],\n        \"semantic_type\": \"\",\n        \"description\": \"\"\n      }\n    },\n    {\n      \"column\": \"Residence_type\",\n      \"properties\": {\n        \"dtype\": \"category\",\n        \"num_unique_values\": 2,\n        \"samples\": [\n          \"Rural\",\n          \"Urban\"\n        ],\n        \"semantic_type\": \"\",\n        \"description\": \"\"\n      }\n    },\n    {\n      \"column\": \"avg_glucose_level\",\n      \"properties\": {\n        \"dtype\": \"number\",\n        \"std\": 45.28356015058198,\n        \"min\": 55.12,\n        \"max\": 271.74,\n        \"num_unique_values\": 3979,\n        \"samples\": [\n          178.29,\n          156.69\n        ],\n        \"semantic_type\": \"\",\n        \"description\": \"\"\n      }\n    },\n    {\n      \"column\": \"bmi\",\n      \"properties\": {\n        \"dtype\": \"number\",\n        \"std\": 7.854066729680164,\n        \"min\": 10.3,\n        \"max\": 97.6,\n        \"num_unique_values\": 418,\n        \"samples\": [\n          49.5,\n          18.5\n        ],\n        \"semantic_type\": \"\",\n        \"description\": \"\"\n      }\n    },\n    {\n      \"column\": \"smoking_status\",\n      \"properties\": {\n        \"dtype\": \"category\",\n        \"num_unique_values\": 4,\n        \"samples\": [\n          \"never smoked\",\n          \"Unknown\"\n        ],\n        \"semantic_type\": \"\",\n        \"description\": \"\"\n      }\n    },\n    {\n      \"column\": \"stroke\",\n      \"properties\": {\n        \"dtype\": \"number\",\n        \"std\": 0,\n        \"min\": 0,\n        \"max\": 1,\n        \"num_unique_values\": 2,\n        \"samples\": [\n          0,\n          1\n        ],\n        \"semantic_type\": \"\",\n        \"description\": \"\"\n      }\n    }\n  ]\n}"
            }
          },
          "metadata": {},
          "execution_count": 2
        }
      ]
    },
    {
      "cell_type": "code",
      "source": [
        "from sklearn.model_selection import train_test_split\n",
        "# Split the dataset into training and testing sets\n",
        "y=data['stroke']\n",
        "X=data.drop('stroke',axis=1)\n",
        "X_train, X_test, y_train, y_test = train_test_split(X, y, test_size=0.2, random_state=42)\n",
        "\n",
        "#Mean imputation on bmi\n",
        "X_train['bmi'] = X_train['bmi'].fillna( X_train['bmi'].median())\n",
        "X_test['bmi'] = X_test['bmi'].fillna( X_test['bmi'].median())\n"
      ],
      "metadata": {
        "id": "5R5tb9mCEQtU"
      },
      "execution_count": 3,
      "outputs": []
    },
    {
      "cell_type": "code",
      "source": [
        "from sklearn.compose import ColumnTransformer\n",
        "from sklearn.impute import SimpleImputer\n",
        "from sklearn.preprocessing import OneHotEncoder\n",
        "from sklearn.pipeline import Pipeline\n",
        "from sklearn.preprocessing import StandardScaler\n",
        "from sklearn.metrics import accuracy_score,f1_score\n"
      ],
      "metadata": {
        "id": "aDgTNuI4qot_"
      },
      "execution_count": 4,
      "outputs": []
    },
    {
      "cell_type": "code",
      "source": [
        "numeric_features = X.select_dtypes(include=['int64', 'float64']).columns\n",
        "categorical_features = X.select_dtypes(include=['object']).columns\n",
        "numeric_transformer = Pipeline(steps=[\n",
        "    ('imputer', SimpleImputer(strategy='mean')),\n",
        "    ('scaler', StandardScaler())\n",
        "])\n",
        "\n",
        "categorical_transformer = Pipeline(steps=[\n",
        "    ('imputer', SimpleImputer(strategy='most_frequent')),  # Impute missing values with most frequent\n",
        "    ('onehot', OneHotEncoder(handle_unknown='ignore'))  # One-hot encode categorical columns\n",
        "])\n",
        "\n",
        "preprocessor = ColumnTransformer(\n",
        "    transformers=[\n",
        "        ('num', numeric_transformer, numeric_features),\n",
        "        ('cat', categorical_transformer, categorical_features)\n",
        "    ]\n",
        ")\n",
        "\n",
        "\n"
      ],
      "metadata": {
        "id": "Otoz6CVSpF_9"
      },
      "execution_count": 5,
      "outputs": []
    },
    {
      "cell_type": "code",
      "source": [
        "from sklearn.linear_model import LogisticRegression\n",
        "\n",
        "# Define the logistic regression model\n",
        "logistic_model = LogisticRegression()\n",
        "\n",
        "# Define the pipeline including logistic regression classifier\n",
        "logistic_pipeline = Pipeline(steps=[\n",
        "    ('preprocessor', preprocessor),  # Assuming preprocessor is defined and includes necessary preprocessing steps\n",
        "    ('scaler', StandardScaler()),  # Scaling features can be beneficial for logistic regression\n",
        "    ('classifier', logistic_model)\n",
        "])\n",
        "\n",
        "# Fit the model on the training data\n",
        "logistic_pipeline.fit(X_train, y_train)\n",
        "\n",
        "# Make predictions on the training and testing sets\n",
        "y_train_pred_logistic = logistic_pipeline.predict(X_train)\n",
        "y_test_pred_logistic = logistic_pipeline.predict(X_test)\n",
        "\n",
        "# Calculate accuracy for training and testing sets\n",
        "train_accuracy_logistic = accuracy_score(y_train, y_train_pred_logistic)\n",
        "test_accuracy_logistic = accuracy_score(y_test, y_test_pred_logistic)\n",
        "train_f1_logistic = f1_score(y_train, y_train_pred_logistic)\n",
        "test_f1_logistic = f1_score(y_test, y_test_pred_logistic)\n",
        "\n",
        "print(f'Train Accuracy (Logistic Regression): {train_accuracy_logistic:.6f}')\n",
        "print(f'Test Accuracy (Logistic Regression): {test_accuracy_logistic:.6f}')\n",
        "print(f'Train F1 Score (Logistic Regression): {train_f1_logistic:.6f}')\n",
        "print(f'Test F1 Score (Logistic Regression): {test_f1_logistic:.6f}')\n"
      ],
      "metadata": {
        "colab": {
          "base_uri": "https://localhost:8080/"
        },
        "id": "v3kWZ_Ngl-ew",
        "outputId": "6bc8992a-5e4d-4a44-f113-527d3d025c0b"
      },
      "execution_count": null,
      "outputs": [
        {
          "output_type": "stream",
          "name": "stdout",
          "text": [
            "Train Accuracy (Logistic Regression): 0.954501\n",
            "Test Accuracy (Logistic Regression): 0.939335\n",
            "Train F1 Score (Logistic Regression): 0.010638\n",
            "Test F1 Score (Logistic Regression): 0.000000\n"
          ]
        }
      ]
    },
    {
      "cell_type": "code",
      "source": [
        "from sklearn.model_selection import train_test_split, GridSearchCV\n",
        "from sklearn.pipeline import Pipeline\n",
        "from sklearn.preprocessing import StandardScaler\n",
        "from sklearn.neighbors import KNeighborsClassifier\n",
        "from sklearn.metrics import make_scorer, f1_score, accuracy_score\n",
        "\n",
        "# Define the train-test split\n",
        "X_train, X_test, y_train, y_test = train_test_split(X, y, test_size=0.2, random_state=42)\n",
        "\n",
        "# Define the KNN classifier model\n",
        "knn_model = KNeighborsClassifier()\n",
        "\n",
        "# Define the pipeline including the scaler and KNN classifier\n",
        "knn_pipeline = Pipeline(steps=[\n",
        "   ('preprocessor', preprocessor),  # Assuming preprocessor is defined and includes necessary preprocessing steps\n",
        "    ('scaler', StandardScaler()),  # Scaling features can be beneficial for KNN\n",
        "    ('classifier', knn_model)\n",
        "])\n",
        "\n",
        "# Define the grid of hyperparameters to test\n",
        "param_grid = {\n",
        "    'classifier__n_neighbors': [5, 10, 15, 20],  # Set a range of values for 'k'\n",
        "}\n",
        "\n",
        "# Define scoring metrics for cross-validation\n",
        "scoring_metrics = {\n",
        "    'accuracy': 'accuracy',\n",
        "    'f1': make_scorer(f1_score, average='macro'),  # Using macro average for F1 score\n",
        "}\n",
        "\n",
        "# Set up GridSearchCV with cross-validation\n",
        "grid_search = GridSearchCV(knn_pipeline, param_grid, cv=5, scoring=scoring_metrics, refit='accuracy')\n",
        "\n",
        "# Fit the GridSearchCV model to the training data\n",
        "grid_search.fit(X_train, y_train)\n",
        "\n",
        "# Get the best parameters\n",
        "best_knn_model = grid_search.best_estimator_\n",
        "best_params = grid_search.best_params_\n",
        "\n",
        "# Test accuracy and F1 score for the best model\n",
        "test_accuracy = best_knn_model.score(X_test, y_test)\n",
        "\n",
        "y_test_pred = best_knn_model.predict(X_test)\n",
        "test_f1 = f1_score(y_test, y_test_pred)  # Using macro average for F1 score\n",
        "\n",
        "# Print test results\n",
        "print(f\"Best KNN parameters: {best_params}\")\n",
        "print(f\"Test Accuracy: {test_accuracy:.6f}\")\n",
        "print(f\"Test F1 Score: {test_f1:.6f}\")\n"
      ],
      "metadata": {
        "colab": {
          "base_uri": "https://localhost:8080/"
        },
        "id": "QanS22pXpzCI",
        "outputId": "97b73680-0417-416f-d817-b33677a7e3f7"
      },
      "execution_count": null,
      "outputs": [
        {
          "output_type": "stream",
          "name": "stdout",
          "text": [
            "Best KNN parameters: {'classifier__n_neighbors': 20}\n",
            "Test Accuracy: 0.939335\n",
            "Test F1 Score: 0.000000\n"
          ]
        }
      ]
    },
    {
      "cell_type": "code",
      "source": [
        "from sklearn.neighbors import KNeighborsClassifier\n",
        "# Define the KNN classifier model\n",
        "knn_model = KNeighborsClassifier(n_neighbors=20)\n",
        "# Define the pipeline including KNN classifier\n",
        "knn_pipeline = Pipeline(steps=[\n",
        "    ('preprocessor', preprocessor),  # Assuming preprocessor is defined and includes necessary preprocessing steps\n",
        "    ('scaler', StandardScaler()),  # Scaling features can be beneficial for KNN\n",
        "    ('classifier', knn_model)\n",
        "])\n",
        "\n",
        "# Fit the model on the training data\n",
        "knn_pipeline.fit(X_train, y_train)\n",
        "\n",
        "# Make predictions on the training and testing sets\n",
        "y_train_pred_knn = knn_pipeline.predict(X_train)\n",
        "y_test_pred_knn = knn_pipeline.predict(X_test)\n",
        "\n",
        "# Calculate accuracy for training and testing sets\n",
        "train_accuracy_knn = accuracy_score(y_train, y_train_pred_knn)\n",
        "test_accuracy_knn = accuracy_score(y_test, y_test_pred_knn)\n",
        "train_f1_knn = f1_score(y_train, y_train_pred_knn)\n",
        "test_f1_knn = f1_score(y_test, y_test_pred_knn)\n",
        "\n",
        "print(f'Train Accuracy (KNN): {train_accuracy_knn:.6f}')\n",
        "print(f'Test Accuracy (KNN): {test_accuracy_knn:.6f}')\n",
        "print(f'Train F1 Score (KNN): {train_f1_knn:.6f}')\n",
        "print(f'Test F1 Score (KNN): {test_f1_knn:.6f}')\n"
      ],
      "metadata": {
        "colab": {
          "base_uri": "https://localhost:8080/"
        },
        "id": "5xWYWO8ktQQs",
        "outputId": "91af572e-1cf7-4d39-a9dc-cc455ca24bf8"
      },
      "execution_count": null,
      "outputs": [
        {
          "output_type": "stream",
          "name": "stdout",
          "text": [
            "Train Accuracy (KNN): 0.954256\n",
            "Test Accuracy (KNN): 0.939335\n",
            "Train F1 Score (KNN): 0.010582\n",
            "Test F1 Score (KNN): 0.000000\n"
          ]
        }
      ]
    },
    {
      "cell_type": "code",
      "source": [
        "from sklearn.svm import SVC\n",
        "# Define the SVM classifier model\n",
        "svm_model = SVC(kernel='rbf', random_state=42)  # Example: Using a radial basis function (RBF) kernel\n",
        "\n",
        "# Define the pipeline including SVM classifier\n",
        "svm_pipeline = Pipeline(steps=[\n",
        "    ('preprocessor', preprocessor),  # Assuming preprocessor is defined and includes necessary preprocessing steps\n",
        "    ('scaler', StandardScaler()),  # Scaling features can be beneficial for SVM\n",
        "    ('classifier', svm_model)\n",
        "])\n",
        "\n",
        "# Fit the model on the training data\n",
        "svm_pipeline.fit(X_train, y_train)\n",
        "\n",
        "# Make predictions on the training and testing sets\n",
        "y_train_pred_svm = svm_pipeline.predict(X_train)\n",
        "y_test_pred_svm = svm_pipeline.predict(X_test)\n",
        "\n",
        "# Calculate accuracy for training and testing sets\n",
        "train_accuracy_svm = accuracy_score(y_train, y_train_pred_svm)\n",
        "test_accuracy_svm = accuracy_score(y_test, y_test_pred_svm)\n",
        "train_f1_svm = f1_score(y_train, y_train_pred_svm)\n",
        "test_f1_svm = f1_score(y_test, y_test_pred_svm)\n",
        "\n",
        "print(f'Train Accuracy (SVM): {train_accuracy_svm:.6f}')\n",
        "print(f'Test Accuracy (SVM): {test_accuracy_svm:.6f}')\n",
        "print(f'Train F1 Score (SVM): {train_f1_svm:.6f}')\n",
        "print(f'Test F1 Score (SVM): {test_f1_svm:.6f}')\n"
      ],
      "metadata": {
        "colab": {
          "base_uri": "https://localhost:8080/"
        },
        "id": "vtVgsV_lvQPB",
        "outputId": "dc32dc7f-4f92-4447-c3cf-81453e3b5636"
      },
      "execution_count": null,
      "outputs": [
        {
          "output_type": "stream",
          "name": "stdout",
          "text": [
            "Train Accuracy (SVM): 0.954746\n",
            "Test Accuracy (SVM): 0.939335\n",
            "Train F1 Score (SVM): 0.021164\n",
            "Test F1 Score (SVM): 0.000000\n"
          ]
        }
      ]
    },
    {
      "cell_type": "code",
      "source": [
        "from sklearn.ensemble import RandomForestClassifier\n",
        "from sklearn.metrics import accuracy_score\n",
        "from sklearn.pipeline import Pipeline\n",
        "from sklearn.metrics import mean_squared_error, r2_score\n",
        "\n",
        "# Define the Random Forest classifier model\n",
        "random_forest_model = RandomForestClassifier(n_estimators=150, random_state=42,max_depth=10,min_samples_split=5)\n",
        "\n",
        "# Define the pipeline including Random Forest classifier\n",
        "random_forest_pipeline = Pipeline(steps=[\n",
        "    ('preprocessor', preprocessor),  # Assuming preprocessor is defined\n",
        "    ('classifier', random_forest_model)\n",
        "])\n",
        "\n",
        "# Fit the model on the training data\n",
        "random_forest_pipeline.fit(X_train, y_train)\n",
        "\n",
        "# Make predictions on the training and testing sets\n",
        "y_train_pred_rf = random_forest_pipeline.predict(X_train)\n",
        "y_test_pred_rf = random_forest_pipeline.predict(X_test)\n",
        "\n",
        "# Make predictions on the training and testing sets\n",
        "y_train_pred_rf = random_forest_pipeline.predict(X_train)\n",
        "y_test_pred_rf = random_forest_pipeline.predict(X_test)\n",
        "\n",
        "# Calculate accuracy for training and testing sets\n",
        "train_accuracy_rf = accuracy_score(y_train, y_train_pred_rf)\n",
        "test_accuracy_rf = accuracy_score(y_test, y_test_pred_rf)\n",
        "train_f1_rf = f1_score(y_train, y_train_pred_rf)\n",
        "test_f1_rf = f1_score(y_test, y_test_pred_rf)\n",
        "\n",
        "print(f'Train Accuracy (Random Forest): {train_accuracy_rf:.6f}')\n",
        "print(f'Test Accuracy (Random Forest): {test_accuracy_rf:.6f}')\n",
        "print(f'Train F1 Score (Random Forest): {train_f1_rf:.6f}')\n",
        "print(f'Test F1 Score (Random Forest): {test_f1_rf:.6f}')\n",
        "\n"
      ],
      "metadata": {
        "id": "xdWzQm-m612E",
        "colab": {
          "base_uri": "https://localhost:8080/"
        },
        "outputId": "ebcce9d1-2b8d-46e0-b5da-4d797a12cec3"
      },
      "execution_count": null,
      "outputs": [
        {
          "output_type": "stream",
          "name": "stdout",
          "text": [
            "Train Accuracy (Random Forest): 0.957436\n",
            "Test Accuracy (Random Forest): 0.939335\n",
            "Train F1 Score (Random Forest): 0.130000\n",
            "Test F1 Score (Random Forest): 0.000000\n"
          ]
        }
      ]
    },
    {
      "cell_type": "code",
      "source": [
        "import xgboost as xgb\n",
        "from sklearn.metrics import mean_squared_error, r2_score\n",
        "from sklearn.pipeline import Pipeline\n",
        "\n",
        "# Define the XGBoost model\n",
        "xgboost_model = xgb.XGBClassifier(objective='binary:logistic',random_state=42)\n",
        "\n",
        "# Define the pipeline including XGBoost model\n",
        "xgboost_pipeline = Pipeline(steps=[\n",
        "    ('preprocessor', preprocessor),  # Assuming preprocessor is defined\n",
        "    ('classifier', xgboost_model)\n",
        "])\n",
        "\n",
        "# Fit the model on the training data\n",
        "xgboost_pipeline.fit(X_train, y_train)\n",
        "\n",
        "# Make predictions on the training and testing sets\n",
        "y_train_pred_xgb = xgboost_pipeline.predict(X_train)\n",
        "y_test_pred_xgb = xgboost_pipeline.predict(X_test)\n",
        "\n",
        "# Calculate accuracy for training and testing sets\n",
        "train_accuracy_xgb = accuracy_score(y_train, y_train_pred_xgb)\n",
        "test_accuracy_xgb = accuracy_score(y_test, y_test_pred_xgb)\n",
        "train_f1_xgb = f1_score(y_train, y_train_pred_xgb)\n",
        "test_f1_xgb = f1_score(y_test, y_test_pred_xgb)\n",
        "\n",
        "print(f'Train Accuracy (XGBoost): {train_accuracy_xgb:.6f}')\n",
        "print(f'Test Accuracy (XGBoost): {test_accuracy_xgb:.6f}')\n",
        "print(f'Train F1 Score (XGBoost): {train_f1_xgb:.6f}')\n",
        "print(f'Test F1 Score (XGBoost): {test_f1_xgb:.6f}')"
      ],
      "metadata": {
        "colab": {
          "base_uri": "https://localhost:8080/"
        },
        "id": "397ZHfg1s9CD",
        "outputId": "5238016b-5897-4f89-a7d7-71837d65d883"
      },
      "execution_count": null,
      "outputs": [
        {
          "output_type": "stream",
          "name": "stdout",
          "text": [
            "Train Accuracy (XGBoost): 0.998288\n",
            "Test Accuracy (XGBoost): 0.939335\n",
            "Train F1 Score (XGBoost): 0.980926\n",
            "Test F1 Score (XGBoost): 0.184211\n"
          ]
        }
      ]
    },
    {
      "cell_type": "code",
      "source": [
        "import xgboost as xgb\n",
        "from sklearn.metrics import mean_squared_error, r2_score\n",
        "from sklearn.pipeline import Pipeline\n",
        "top_feature_names = [feature for feature, _ in sorted_feature_importances[:6]]\n",
        "X_train_onehot = preprocessor.fit_transform(X_train)\n",
        "X_test_onehot = preprocessor.fit_transform(X_test)\n",
        "onehot_feature_names = preprocessor.transformers_[1][1].get_feature_names_out(input_features=categorical_features)\n",
        "onehot_feature_names_train = onehot_feature_names[onehot_feature_names != 'gender_Other']\n",
        "X_train_onehot_df = pd.DataFrame(X_train_onehot,columns = list(onehot_feature_names_train)+list(numeric_features))\n",
        "X_test_onehot_df = pd.DataFrame(X_test_onehot,columns = list(onehot_feature_names)+list(numeric_features))\n",
        "X_train_top = X_train_onehot_df[list(top_feature_names)]\n",
        "X_test_top = X_test_onehot_df[list(top_feature_names)]\n",
        "\n",
        "# Define the XGBoost model\n",
        "xgboost_model = xgb.XGBClassifier(objective='binary:logistic', random_state=42)\n",
        "\n",
        "# Define the pipeline including XGBoost model with top features\n",
        "xgboost_pipeline_top_features = Pipeline(steps=[\n",
        "    ('classifier', xgboost_model)\n",
        "])\n",
        "# Fit the model on the transformed training data with one-hot encoded format\n",
        "xgboost_pipeline_top_features.fit(X_train_top, y_train)\n",
        "\n",
        "# Make predictions on the training and testing sets\n",
        "y_train_pred_xgb_top = xgboost_pipeline_top_features.predict(X_train_top)\n",
        "y_test_pred_xgb_top = xgboost_pipeline_top_features.predict(X_test_top)\n",
        "\n",
        "# Calculate accuracy for training and testing sets\n",
        "train_accuracy_xgb_top = accuracy_score(y_train, y_train_pred_xgb_top)\n",
        "test_accuracy_xgb_top = accuracy_score(y_test, y_test_pred_xgb_top)\n",
        "train_f1_xgb_top = f1_score(y_train, y_train_pred_xgb_top)\n",
        "test_f1_xgb_top = f1_score(y_test, y_test_pred_xgb_top)\n",
        "\n",
        "\n",
        "print(f'Train Accuracy (XGBoost with top features): {train_accuracy_xgb_top:.6f}')\n",
        "print(f'Test Accuracy (XGBoost with top features): {test_accuracy_xgb_top:.6f}')\n",
        "print(f'Train F1 Score (XGBoost with top features): {train_f1_xgb_top:.6f}')\n",
        "print(f'Test F1 Score (XGBoost with top features): {test_f1_xgb_top:.6f}')\n"
      ],
      "metadata": {
        "colab": {
          "base_uri": "https://localhost:8080/"
        },
        "id": "byF6YFFO3ETB",
        "outputId": "f1b4ea0c-6c78-490f-b10a-75fd959c8702"
      },
      "execution_count": null,
      "outputs": [
        {
          "output_type": "stream",
          "name": "stdout",
          "text": [
            "Train Accuracy (XGBoost with top features): 0.954256\n",
            "Test Accuracy (XGBoost with top features): 0.939335\n",
            "Train F1 Score (XGBoost with top features): 0.000000\n",
            "Test F1 Score (XGBoost with top features): 0.000000\n"
          ]
        }
      ]
    },
    {
      "cell_type": "markdown",
      "source": [
        "Results after handling class imbalance\n"
      ],
      "metadata": {
        "id": "_s8Qt0QtCyNl"
      }
    },
    {
      "cell_type": "code",
      "source": [
        "!pip install imbalanced-learn\n"
      ],
      "metadata": {
        "colab": {
          "base_uri": "https://localhost:8080/"
        },
        "id": "gBj6xAHrmFXT",
        "outputId": "5fcdded6-22eb-4967-b78e-b0f73982cc21"
      },
      "execution_count": 6,
      "outputs": [
        {
          "output_type": "stream",
          "name": "stdout",
          "text": [
            "Requirement already satisfied: imbalanced-learn in /usr/local/lib/python3.10/dist-packages (0.10.1)\n",
            "Requirement already satisfied: numpy>=1.17.3 in /usr/local/lib/python3.10/dist-packages (from imbalanced-learn) (1.25.2)\n",
            "Requirement already satisfied: scipy>=1.3.2 in /usr/local/lib/python3.10/dist-packages (from imbalanced-learn) (1.11.4)\n",
            "Requirement already satisfied: scikit-learn>=1.0.2 in /usr/local/lib/python3.10/dist-packages (from imbalanced-learn) (1.2.2)\n",
            "Requirement already satisfied: joblib>=1.1.1 in /usr/local/lib/python3.10/dist-packages (from imbalanced-learn) (1.4.0)\n",
            "Requirement already satisfied: threadpoolctl>=2.0.0 in /usr/local/lib/python3.10/dist-packages (from imbalanced-learn) (3.4.0)\n"
          ]
        }
      ]
    },
    {
      "cell_type": "code",
      "source": [
        "from imblearn.over_sampling import SMOTE\n",
        "import pandas as pd\n",
        "\n",
        "X_train_onehot = preprocessor.fit_transform(X_train)\n",
        "X_test_onehot = preprocessor.fit_transform(X_test)\n",
        "onehot_feature_names = preprocessor.transformers_[1][1].get_feature_names_out(input_features=categorical_features)\n",
        "onehot_feature_names_train = onehot_feature_names[onehot_feature_names != 'gender_Other']\n",
        "X_train_onehot_df = pd.DataFrame(X_train_onehot,columns = list(numeric_features)+list(onehot_feature_names_train))\n",
        "X_test_onehot_df = pd.DataFrame(X_test_onehot,columns = list(numeric_features) +list(onehot_feature_names))\n",
        "X_test_onehot_df.drop(columns=['gender_Other'], inplace=True)\n",
        "\n",
        "\n",
        "# Assuming 'X' and 'y' are your feature and target variables\n",
        "smote = SMOTE(random_state=42)\n",
        "X_smote, y_smote = smote.fit_resample(X_train_onehot, y_train)\n",
        "X_smote_df = pd.DataFrame(X_smote, columns=X_train_onehot_df.columns)\n",
        "\n"
      ],
      "metadata": {
        "id": "qCozsIonmUjS"
      },
      "execution_count": 8,
      "outputs": []
    },
    {
      "cell_type": "code",
      "source": [
        "#XGBOOST WITH SMOTE\n",
        "import xgboost as xgb\n",
        "from sklearn.metrics import mean_squared_error, r2_score\n",
        "from sklearn.pipeline import Pipeline\n",
        "\n",
        "# Define the XGBoost model\n",
        "xgboost_model = xgb.XGBClassifier(objective='binary:logistic',random_state=42)\n",
        "\n",
        "# Define the pipeline including XGBoost model\n",
        "xgboost_pipeline = Pipeline(steps=[\n",
        "    ('classifier', xgboost_model)\n",
        "])\n",
        "\n",
        "# Fit the model on the training data\n",
        "xgboost_pipeline.fit(X_smote_df, y_smote)\n",
        "\n",
        "# Make predictions on the training and testing sets\n",
        "y_train_pred_xgb = xgboost_pipeline.predict(X_smote_df)\n",
        "y_test_pred_xgb = xgboost_pipeline.predict(X_test_onehot_df)\n",
        "\n",
        "# Calculate accuracy for training and testing sets\n",
        "train_accuracy_xgb = accuracy_score(y_smote, y_train_pred_xgb)\n",
        "test_accuracy_xgb = accuracy_score(y_test, y_test_pred_xgb)\n",
        "train_f1_xgb = f1_score(y_smote, y_train_pred_xgb)\n",
        "test_f1_xgb = f1_score(y_test, y_test_pred_xgb)\n",
        "\n",
        "print(f'Train Accuracy (XGBoost): {train_accuracy_xgb:.6f}')\n",
        "print(f'Test Accuracy (XGBoost): {test_accuracy_xgb:.6f}')\n",
        "print(f'Train F1 Score (XGBoost): {train_f1_xgb:.6f}')\n",
        "print(f'Test F1 Score (XGBoost): {test_f1_xgb:.6f}')"
      ],
      "metadata": {
        "colab": {
          "base_uri": "https://localhost:8080/"
        },
        "id": "3E3B5S68nt6J",
        "outputId": "83057209-39c5-487e-b0e6-51a376ec73e5"
      },
      "execution_count": 10,
      "outputs": [
        {
          "output_type": "stream",
          "name": "stdout",
          "text": [
            "Train Accuracy (XGBoost): 0.997949\n",
            "Test Accuracy (XGBoost): 0.886497\n",
            "Train F1 Score (XGBoost): 0.997947\n",
            "Test F1 Score (XGBoost): 0.226667\n"
          ]
        }
      ]
    },
    {
      "cell_type": "code",
      "source": [
        "from sklearn.metrics import confusion_matrix\n",
        "conf_matrix = confusion_matrix(y_test, y_test_pred_xgb)\n",
        "\n",
        "# Calculate class-wise accuracy\n",
        "class_accuracies = conf_matrix.diagonal() / conf_matrix.sum(axis=1)\n",
        "\n",
        "# Output the class-wise accuracy\n",
        "for i, acc in enumerate(class_accuracies):\n",
        "    print(f'Class {i} Accuracy: {acc:.6f}')"
      ],
      "metadata": {
        "colab": {
          "base_uri": "https://localhost:8080/"
        },
        "id": "VtrWkQnhjacc",
        "outputId": "0eb8f163-0f3f-48ce-d3fb-923d6688f951"
      },
      "execution_count": 11,
      "outputs": [
        {
          "output_type": "stream",
          "name": "stdout",
          "text": [
            "Class 0 Accuracy: 0.926042\n",
            "Class 1 Accuracy: 0.274194\n"
          ]
        }
      ]
    },
    {
      "cell_type": "code",
      "source": [
        "import matplotlib.pyplot as plt\n",
        "\n",
        "# Get feature importances\n",
        "importances = xgboost_pipeline.named_steps['classifier'].feature_importances_\n",
        "\n",
        "# Get the names of the features\n",
        "feature_names = X_smote_df.columns\n",
        "\n",
        "# Sort feature importances in descending order\n",
        "indices = np.argsort(importances)[::-1]\n",
        "\n",
        "# Rearrange feature names based on feature importances\n",
        "sorted_feature_names = [feature_names[i] for i in indices]\n",
        "\n",
        "# Get the top N important predictors\n",
        "N = 10  # Adjust as needed\n",
        "top_features = sorted_feature_names[:N]\n",
        "top_importances = importances[indices][:N]\n",
        "\n",
        "# Plot the feature importances\n",
        "plt.figure(figsize=(10, 6))\n",
        "plt.barh(top_features, top_importances, color='skyblue')\n",
        "plt.xlabel('Importance')\n",
        "plt.ylabel('Feature')\n",
        "plt.title('Top Feature Importances: XGBoost')\n",
        "plt.gca().invert_yaxis()  # Invert y-axis to have the most important feature at the top\n",
        "plt.show()\n",
        "\n"
      ],
      "metadata": {
        "colab": {
          "base_uri": "https://localhost:8080/",
          "height": 500
        },
        "id": "mTAHtw3SZvgM",
        "outputId": "64b3ef24-494f-49b1-bfd6-174ae03ae8ca"
      },
      "execution_count": 12,
      "outputs": [
        {
          "output_type": "display_data",
          "data": {
            "text/plain": [
              "<Figure size 1000x600 with 1 Axes>"
            ],
            "image/png": "[encoded data removed]"
          },
          "metadata": {}
        }
      ]
    },
    {
      "cell_type": "code",
      "source": [
        "from sklearn.metrics import accuracy_score, f1_score\n",
        "from sklearn.pipeline import Pipeline\n",
        "import matplotlib.pyplot as plt\n",
        "\n",
        "# Define the top N important predictors\n",
        "N = 10  # Adjust as needed\n",
        "top_features = sorted_feature_names[:N]\n",
        "\n",
        "# Extract top features from the datasets\n",
        "X_smote_top = X_smote_df[top_features]\n",
        "X_test_top = X_test_onehot_df[top_features]\n",
        "\n",
        "# Define the XGBoost model with top features\n",
        "xgboost_model_top = xgb.XGBClassifier(objective='binary:logistic', random_state=42)\n",
        "\n",
        "# Define the pipeline including XGBoost model with top features\n",
        "xgboost_pipeline_top = Pipeline(steps=[\n",
        "    ('classifier', xgboost_model_top)\n",
        "])\n",
        "\n",
        "# Fit the model on the training data with top features\n",
        "xgboost_pipeline_top.fit(X_smote_top, y_smote)\n",
        "\n",
        "# Make predictions on the training and testing sets\n",
        "y_train_pred_xgb_top = xgboost_pipeline_top.predict(X_smote_top)\n",
        "y_test_pred_xgb_top = xgboost_pipeline_top.predict(X_test_top)\n",
        "\n",
        "# Calculate accuracy for training and testing sets with top features\n",
        "train_accuracy_xgb_top = accuracy_score(y_smote, y_train_pred_xgb_top)\n",
        "test_accuracy_xgb_top = accuracy_score(y_test, y_test_pred_xgb_top)\n",
        "train_f1_xgb_top = f1_score(y_smote, y_train_pred_xgb_top)\n",
        "test_f1_xgb_top = f1_score(y_test, y_test_pred_xgb_top)\n",
        "\n",
        "print(f'Train Accuracy (XGBoost with Top Features): {train_accuracy_xgb_top:.6f}')\n",
        "print(f'Test Accuracy (XGBoost with Top Features): {test_accuracy_xgb_top:.6f}')\n",
        "print(f'Train F1 Score (XGBoost with Top Features): {train_f1_xgb_top:.6f}')\n",
        "print(f'Test F1 Score (XGBoost with Top Features): {test_f1_xgb_top:.6f}')\n"
      ],
      "metadata": {
        "colab": {
          "base_uri": "https://localhost:8080/"
        },
        "id": "uuO8vXMRxQxD",
        "outputId": "c668cde0-c84b-41e7-bb00-777353e3310c"
      },
      "execution_count": 13,
      "outputs": [
        {
          "output_type": "stream",
          "name": "stdout",
          "text": [
            "Train Accuracy (XGBoost with Top Features): 0.968982\n",
            "Test Accuracy (XGBoost with Top Features): 0.790607\n",
            "Train F1 Score (XGBoost with Top Features): 0.968241\n",
            "Test F1 Score (XGBoost with Top Features): 0.286667\n"
          ]
        }
      ]
    },
    {
      "cell_type": "code",
      "source": [
        "from sklearn.ensemble import RandomForestClassifier\n",
        "from sklearn.metrics import accuracy_score\n",
        "from sklearn.pipeline import Pipeline\n",
        "\n",
        "# Define the Random Forest model\n",
        "rf_model = RandomForestClassifier(n_estimators=150,max_depth=10,min_samples_split=5,random_state=42)\n",
        "\n",
        "# Define the pipeline including Random Forest model\n",
        "rf_pipeline = Pipeline(steps=[\n",
        "    ('classifier', rf_model)\n",
        "])\n",
        "\n",
        "# Fit the model on the SMOTE training data\n",
        "rf_pipeline.fit(X_smote_df, y_smote)\n",
        "\n",
        "# Make predictions on the training and testing sets\n",
        "y_train_pred_rf = rf_pipeline.predict(X_smote_df)\n",
        "y_test_pred_rf = rf_pipeline.predict(X_test_onehot_df)\n",
        "\n",
        "# Calculate accuracy for training and testing sets\n",
        "train_accuracy_rf = accuracy_score(y_smote, y_train_pred_rf)\n",
        "test_accuracy_rf = accuracy_score(y_test, y_test_pred_rf)\n",
        "train_f1_rf = f1_score(y_smote, y_train_pred_rf)\n",
        "test_f1_rf = f1_score(y_test, y_test_pred_rf)\n",
        "\n",
        "\n",
        "print(f'Train Accuracy (Random Forest): {train_accuracy_rf:.6f}')\n",
        "print(f'Test Accuracy (Random Forest): {test_accuracy_rf:.6f}')\n",
        "print(f'Train F1 Score (Random Forest): {train_f1_rf:.6f}')\n",
        "print(f'Test F1 Score (Random Forest): {test_f1_rf:.6f}')"
      ],
      "metadata": {
        "colab": {
          "base_uri": "https://localhost:8080/"
        },
        "id": "g8Qu0djZ8hEJ",
        "outputId": "5b1a1c9c-4e1f-4378-e22e-39e227747503"
      },
      "execution_count": 14,
      "outputs": [
        {
          "output_type": "stream",
          "name": "stdout",
          "text": [
            "Train Accuracy (Random Forest): 0.945783\n",
            "Test Accuracy (Random Forest): 0.863014\n",
            "Train F1 Score (Random Forest): 0.947052\n",
            "Test F1 Score (Random Forest): 0.247312\n"
          ]
        }
      ]
    },
    {
      "cell_type": "code",
      "source": [
        "import matplotlib.pyplot as plt\n",
        "\n",
        "# Get feature importances\n",
        "importances = rf_pipeline.named_steps['classifier'].feature_importances_\n",
        "\n",
        "# Get the names of the features\n",
        "feature_names = X_smote_df.columns\n",
        "\n",
        "# Sort feature importances in descending order\n",
        "indices = np.argsort(importances)[::-1]\n",
        "\n",
        "# Rearrange feature names based on feature importances\n",
        "sorted_feature_names = [feature_names[i] for i in indices]\n",
        "\n",
        "# Get the top N important predictors\n",
        "N = 10  # Adjust as needed\n",
        "top_features = sorted_feature_names[:N]\n",
        "top_importances = importances[indices][:N]\n",
        "\n",
        "# Plot the feature importances\n",
        "plt.figure(figsize=(10, 6))\n",
        "plt.barh(top_features, top_importances, color='skyblue')\n",
        "plt.xlabel('Importance')\n",
        "plt.ylabel('Feature')\n",
        "plt.title('Top Feature Importances: Random Forest')\n",
        "plt.gca().invert_yaxis()  # Invert y-axis to have the most important feature at the top\n",
        "plt.show()\n"
      ],
      "metadata": {
        "colab": {
          "base_uri": "https://localhost:8080/",
          "height": 500
        },
        "id": "Uund2AnEZB2A",
        "outputId": "bb1cff64-b357-45b5-ac3a-310dc557b737"
      },
      "execution_count": 15,
      "outputs": [
        {
          "output_type": "display_data",
          "data": {
            "text/plain": [
              "<Figure size 1000x600 with 1 Axes>"
            ],
            "image/png": "[encoded data removed]"
          },
          "metadata": {}
        }
      ]
    },
    {
      "cell_type": "code",
      "source": [
        "from sklearn.linear_model import LogisticRegression\n",
        "from sklearn.metrics import accuracy_score\n",
        "from sklearn.pipeline import Pipeline\n",
        "\n",
        "# Define the logistic regression model\n",
        "logistic_model = LogisticRegression(random_state=42)\n",
        "\n",
        "# Define the pipeline including logistic regression model\n",
        "logistic_pipeline = Pipeline(steps=[\n",
        "    ('classifier', logistic_model)\n",
        "])\n",
        "\n",
        "# Fit the model on the SMOTE training data\n",
        "logistic_pipeline.fit(X_smote_df, y_smote)\n",
        "\n",
        "# Make predictions on the training and testing sets\n",
        "y_train_pred_logistic = logistic_pipeline.predict(X_smote_df)\n",
        "y_test_pred_logistic = logistic_pipeline.predict(X_test_onehot_df)\n",
        "\n",
        "# Calculate accuracy for training and testing sets\n",
        "train_accuracy_logistic = accuracy_score(y_smote, y_train_pred_logistic)\n",
        "test_accuracy_logistic = accuracy_score(y_test, y_test_pred_logistic)\n",
        "train_f1_logistic = f1_score(y_smote, y_train_pred_logistic)\n",
        "test_f1_logistic = f1_score(y_test, y_test_pred_logistic)\n",
        "\n",
        "\n",
        "print(f'Train Accuracy (Logistic Regression): {train_accuracy_logistic:.6f}')\n",
        "print(f'Test Accuracy (Logistic Regression): {test_accuracy_logistic:.6f}')\n",
        "print(f'Train F1 Score (Logistic Regression): {train_f1_logistic:.6f}')\n",
        "print(f'Test F1 Score (Logistic Regression): {test_f1_logistic:.6f}')"
      ],
      "metadata": {
        "colab": {
          "base_uri": "https://localhost:8080/"
        },
        "id": "XM3WhhNY8muf",
        "outputId": "c5ea610a-fce6-470a-89f4-adb4dea5022e"
      },
      "execution_count": 9,
      "outputs": [
        {
          "output_type": "stream",
          "name": "stdout",
          "text": [
            "Train Accuracy (Logistic Regression): 0.788131\n",
            "Test Accuracy (Logistic Regression): 0.745597\n",
            "Train F1 Score (Logistic Regression): 0.796604\n",
            "Test F1 Score (Logistic Regression): 0.285714\n"
          ]
        }
      ]
    },
    {
      "cell_type": "code",
      "source": [
        "logistic_pipeline.fit(X_smote_df, y_smote)\n",
        "\n",
        "# Make predictions on the test set\n",
        "y_test_pred_logistic = logistic_pipeline.predict(X_test_onehot_df)\n",
        "\n",
        "# Calculate the confusion matrix\n",
        "conf_matrix_logistic = confusion_matrix(y_test, y_test_pred_logistic)\n",
        "\n",
        "# Calculate class-wise accuracy\n",
        "class_accuracies_logistic = conf_matrix_logistic.diagonal() / conf_matrix_logistic.sum(axis=1)\n",
        "\n",
        "# Output the class-wise accuracy\n",
        "for i, acc in enumerate(class_accuracies_logistic):\n",
        "    print(f'Class {i} Accuracy: {acc:.6f}')"
      ],
      "metadata": {
        "colab": {
          "base_uri": "https://localhost:8080/"
        },
        "id": "dSQ_MM-nkLJC",
        "outputId": "05a1a32b-35bc-40bb-e213-9ac3bc473b9f"
      },
      "execution_count": null,
      "outputs": [
        {
          "output_type": "stream",
          "name": "stdout",
          "text": [
            "Class 0 Accuracy: 0.739583\n",
            "Class 1 Accuracy: 0.838710\n"
          ]
        }
      ]
    },
    {
      "cell_type": "code",
      "source": [
        "from sklearn.ensemble import RandomForestClassifier\n",
        "from sklearn.metrics import accuracy_score, f1_score\n",
        "from sklearn.pipeline import Pipeline\n",
        "\n",
        "# Define the top N important predictors\n",
        "N = 10  # Adjust as needed\n",
        "top_features_rf = sorted_feature_names[:N]\n",
        "\n",
        "# Extract top features from the datasets\n",
        "X_smote_top_rf = X_smote_df[top_features_rf]\n",
        "X_test_top_rf = X_test_onehot_df[top_features_rf]\n",
        "\n",
        "# Define the Random Forest model with top features\n",
        "rf_model_top = RandomForestClassifier(n_estimators=150, max_depth=10, min_samples_split=5, random_state=42)\n",
        "\n",
        "# Define the pipeline including Random Forest model with top features\n",
        "rf_pipeline_top = Pipeline(steps=[\n",
        "    ('classifier', rf_model_top)\n",
        "])\n",
        "\n",
        "# Fit the model on the training data with top features\n",
        "rf_pipeline_top.fit(X_smote_top_rf, y_smote)\n",
        "\n",
        "# Make predictions on the training and testing sets\n",
        "y_train_pred_rf_top = rf_pipeline_top.predict(X_smote_top_rf)\n",
        "y_test_pred_rf_top = rf_pipeline_top.predict(X_test_top_rf)\n",
        "\n",
        "# Calculate accuracy for training and testing sets with top features\n",
        "train_accuracy_rf_top = accuracy_score(y_smote, y_train_pred_rf_top)\n",
        "test_accuracy_rf_top = accuracy_score(y_test, y_test_pred_rf_top)\n",
        "train_f1_rf_top = f1_score(y_smote, y_train_pred_rf_top)\n",
        "test_f1_rf_top = f1_score(y_test, y_test_pred_rf_top)\n",
        "\n",
        "print(f'Train Accuracy (Random Forest with Top Features): {train_accuracy_rf_top:.6f}')\n",
        "print(f'Test Accuracy (Random Forest with Top Features): {test_accuracy_rf_top:.6f}')\n",
        "print(f'Train F1 Score (Random Forest with Top Features): {train_f1_rf_top:.6f}')\n",
        "print(f'Test F1 Score (Random Forest with Top Features): {test_f1_rf_top:.6f}')\n"
      ],
      "metadata": {
        "id": "U8whR0L3yBV1",
        "outputId": "2f2e4cf2-01db-4fd3-a69b-1cf7d9304796",
        "colab": {
          "base_uri": "https://localhost:8080/"
        }
      },
      "execution_count": 16,
      "outputs": [
        {
          "output_type": "stream",
          "name": "stdout",
          "text": [
            "Train Accuracy (Random Forest with Top Features): 0.927839\n",
            "Test Accuracy (Random Forest with Top Features): 0.820939\n",
            "Train F1 Score (Random Forest with Top Features): 0.930656\n",
            "Test F1 Score (Random Forest with Top Features): 0.214592\n"
          ]
        }
      ]
    },
    {
      "cell_type": "code",
      "source": [
        "from sklearn.svm import SVC\n",
        "from sklearn.metrics import accuracy_score\n",
        "from sklearn.pipeline import Pipeline\n",
        "\n",
        "# Define the SVM model\n",
        "svm_model = SVC(random_state=42)\n",
        "\n",
        "# Define the pipeline including SVM model\n",
        "svm_pipeline = Pipeline(steps=[\n",
        "    ('classifier', svm_model)\n",
        "])\n",
        "\n",
        "# Fit the model on the SMOTE training data\n",
        "svm_pipeline.fit(X_smote_df, y_smote)\n",
        "\n",
        "# Make predictions on the training and testing sets\n",
        "y_train_pred_svm = svm_pipeline.predict(X_smote_df)\n",
        "y_test_pred_svm = svm_pipeline.predict(X_test_onehot_df)\n",
        "\n",
        "# Calculate accuracy for training and testing sets\n",
        "train_accuracy_svm = accuracy_score(y_smote, y_train_pred_svm)\n",
        "test_accuracy_svm = accuracy_score(y_test, y_test_pred_svm)\n",
        "train_f1_svm = f1_score(y_smote, y_train_pred_svm)\n",
        "test_f1_svm = f1_score(y_test, y_test_pred_svm)\n",
        "\n",
        "\n",
        "print(f'Train Accuracy (SVM): {train_accuracy_svm:.6f}')\n",
        "print(f'Test Accuracy (SVM): {test_accuracy_svm:.6f}')\n",
        "print(f'Train F1 Score (SVM): {train_f1_svm:.6f}')\n",
        "print(f'Test F1 Score (SVM): {test_f1_svm:.6f}')\n"
      ],
      "metadata": {
        "colab": {
          "base_uri": "https://localhost:8080/"
        },
        "id": "pyeFAo2V9Vrt",
        "outputId": "5a8025c9-235b-4c6f-a2a9-6e0883d68d19"
      },
      "execution_count": null,
      "outputs": [
        {
          "output_type": "stream",
          "name": "stdout",
          "text": [
            "Train Accuracy (SVM): 0.892335\n",
            "Test Accuracy (SVM): 0.777886\n",
            "Train F1 Score (SVM): 0.898132\n",
            "Test F1 Score (SVM): 0.240803\n"
          ]
        }
      ]
    },
    {
      "cell_type": "code",
      "source": [
        "from sklearn.neighbors import KNeighborsClassifier\n",
        "from sklearn.metrics import accuracy_score, f1_score, make_scorer\n",
        "from sklearn.pipeline import Pipeline\n",
        "from sklearn.model_selection import GridSearchCV\n",
        "\n",
        "# Define the KNN model\n",
        "knn_model = KNeighborsClassifier()\n",
        "\n",
        "# Define the pipeline with KNN\n",
        "knn_pipeline = Pipeline(steps=[\n",
        "    ('classifier', knn_model)\n",
        "])\n",
        "\n",
        "# Define the grid of hyperparameters to test for Grid Search CV\n",
        "param_grid = {\n",
        "    'classifier__n_neighbors': [5, 10, 15, 20],  # The possible values for k\n",
        "}\n",
        "\n",
        "# Define scoring metrics for Grid Search CV\n",
        "scoring_metrics = {\n",
        "    'accuracy': 'accuracy',\n",
        "    'f1': make_scorer(f1_score, average='macro'),  # Using macro average for multi-class\n",
        "}\n",
        "\n",
        "# Set up GridSearchCV with cross-validation\n",
        "grid_search = GridSearchCV(\n",
        "    knn_pipeline,\n",
        "    param_grid,\n",
        "    cv=5,\n",
        "    scoring=scoring_metrics,  # You can include multiple metrics for scoring\n",
        "    refit='accuracy',         # Choose the best model based on accuracy\n",
        "    return_train_score=True\n",
        ")\n",
        "\n",
        "# Fit GridSearchCV to the SMOTE training data\n",
        "grid_search.fit(X_smote_df, y_smote)\n",
        "\n",
        "# Get the best model and its parameters\n",
        "best_knn_model = grid_search.best_estimator_\n",
        "best_params = grid_search.best_params_\n",
        "\n",
        "# Make predictions on the testing set\n",
        "y_test_pred_knn = best_knn_model.predict(X_test_onehot_df)\n",
        "\n",
        "# Calculate accuracy and F1 score for the testing set\n",
        "test_accuracy_knn = accuracy_score(y_test, y_test_pred_knn)\n",
        "test_f1_knn = f1_score(y_test, y_test_pred_knn)\n",
        "\n",
        "print(f\"Optimal KNN Parameters: {best_params}\")\n",
        "print(f\"Test Accuracy (KNN): {test_accuracy_knn:.6f}\")\n",
        "print(f\"Test F1 Score (KNN): {test_f1_knn:.6f}\")\n"
      ],
      "metadata": {
        "colab": {
          "base_uri": "https://localhost:8080/"
        },
        "id": "wbWF0qvH6K6d",
        "outputId": "f8df33b4-fdb3-4840-bdc8-5df290827768"
      },
      "execution_count": null,
      "outputs": [
        {
          "output_type": "stream",
          "name": "stdout",
          "text": [
            "Optimal KNN Parameters: {'classifier__n_neighbors': 5}\n",
            "Test Accuracy (KNN): 0.739726\n",
            "Test F1 Score (KNN): 0.152866\n"
          ]
        }
      ]
    },
    {
      "cell_type": "code",
      "source": [
        "from sklearn.neighbors import KNeighborsClassifier\n",
        "from sklearn.metrics import accuracy_score\n",
        "from sklearn.pipeline import Pipeline\n",
        "\n",
        "# Define the KNN model\n",
        "knn_model = KNeighborsClassifier()\n",
        "\n",
        "# Define the pipeline including KNN model\n",
        "knn_pipeline = Pipeline(steps=[\n",
        "    ('classifier', knn_model)\n",
        "])\n",
        "\n",
        "# Fit the model on the SMOTE training data\n",
        "knn_pipeline.fit(X_smote_df, y_smote)\n",
        "\n",
        "# Make predictions on the training and testing sets\n",
        "y_train_pred_knn = knn_pipeline.predict(X_smote_df)\n",
        "y_test_pred_knn = knn_pipeline.predict(X_test_onehot_df)\n",
        "\n",
        "# Calculate accuracy for training and testing sets\n",
        "train_accuracy_knn = accuracy_score(y_smote, y_train_pred_knn)\n",
        "test_accuracy_knn = accuracy_score(y_test, y_test_pred_knn)\n",
        "train_f1_knn = f1_score(y_smote, y_train_pred_knn)\n",
        "test_f1_knn = f1_score(y_test, y_test_pred_knn)\n",
        "\n",
        "\n",
        "print(f'Train Accuracy (KNN): {train_accuracy_knn:.6f}')\n",
        "print(f'Test Accuracy (KNN): {test_accuracy_knn:.6f}')\n",
        "print(f'Train F1 Score (KNN): {train_f1_knn:.6f}')\n",
        "print(f'Test F1 Score (KNN): {test_f1_knn:.6f}')\n"
      ],
      "metadata": {
        "colab": {
          "base_uri": "https://localhost:8080/"
        },
        "id": "yDhp6tZG6mNN",
        "outputId": "c0572ac0-3c5c-421c-bdcb-d026e62031f5"
      },
      "execution_count": null,
      "outputs": [
        {
          "output_type": "stream",
          "name": "stdout",
          "text": [
            "Train Accuracy (KNN): 0.941682\n",
            "Test Accuracy (KNN): 0.739726\n",
            "Train F1 Score (KNN): 0.944708\n",
            "Test F1 Score (KNN): 0.152866\n"
          ]
        }
      ]
    },
    {
      "cell_type": "code",
      "source": [
        "import matplotlib.pyplot as plt\n",
        "from sklearn.metrics import roc_curve, roc_auc_score\n",
        "\n",
        "# Get the predicted probabilities for the positive class from each model\n",
        "xgboost_probs = xgboost_pipeline.named_steps['classifier'].predict_proba(X_test_onehot_df)[:, 1]\n",
        "logreg_probs = logistic_pipeline.named_steps['classifier'].predict_proba(X_test_onehot_df)[:, 1]\n",
        "svm_probs = svm_pipeline.named_steps['classifier'].decision_function(X_test_onehot_df)\n",
        "knn_probs = knn_pipeline.named_steps['classifier'].predict_proba(X_test_onehot_df)[:, 1]\n",
        "\n",
        "# Calculate the ROC curves and AUC-ROC scores\n",
        "fpr_xgboost, tpr_xgboost, _ = roc_curve(y_test, xgboost_probs)\n",
        "fpr_logreg, tpr_logreg, _ = roc_curve(y_test, logreg_probs)\n",
        "fpr_svm, tpr_svm, _ = roc_curve(y_test, svm_probs)\n",
        "fpr_knn, tpr_knn, _ = roc_curve(y_test, knn_probs)\n",
        "\n",
        "auc_roc_xgboost = roc_auc_score(y_test, xgboost_probs)\n",
        "auc_roc_logreg = roc_auc_score(y_test, logreg_probs)\n",
        "auc_roc_svm = roc_auc_score(y_test, svm_probs)\n",
        "auc_roc_knn = roc_auc_score(y_test, knn_probs)\n",
        "\n",
        "# Plot the ROC curves\n",
        "plt.figure(figsize=(8, 6))\n",
        "plt.plot(fpr_xgboost, tpr_xgboost, label=f'XGBoost (AUC-ROC: {auc_roc_xgboost:.2f})', color='skyblue')\n",
        "plt.plot(fpr_logreg, tpr_logreg, label=f'Logistic Regression (AUC-ROC: {auc_roc_logreg:.2f})', color='orange')\n",
        "plt.plot(fpr_svm, tpr_svm, label=f'SVM (AUC-ROC: {auc_roc_svm:.2f})', color='green')\n",
        "plt.plot(fpr_knn, tpr_knn, label=f'KNN (AUC-ROC: {auc_roc_knn:.2f})', color='red')\n",
        "plt.plot([0, 1], [0, 1], 'k--', lw=0.5)  # Diagonal line for random guessing\n",
        "plt.xlabel('False Positive Rate')\n",
        "plt.ylabel('True Positive Rate')\n",
        "plt.title('ROC Curve: Multiple Models')\n",
        "plt.legend(loc='lower right')\n",
        "plt.show()\n",
        "\n",
        "# Display the AUC-ROC scores\n",
        "print(f'AUC-ROC Score for XGBoost: {auc_roc_xgboost:.6f}')\n",
        "print(f'AUC-ROC Score for Logistic Regression: {auc_roc_logreg:.6f}')\n",
        "print(f'AUC-ROC Score for SVM: {auc_roc_svm:.6f}')\n",
        "print(f'AUC-ROC Score for KNN: {auc_roc_knn:.6f}')\n"
      ],
      "metadata": {
        "colab": {
          "base_uri": "https://localhost:8080/",
          "height": 633
        },
        "id": "R7eU1MmDEpuK",
        "outputId": "d1204975-228f-4900-bc6f-c0393ff1d49a"
      },
      "execution_count": null,
      "outputs": [
        {
          "output_type": "display_data",
          "data": {
            "text/plain": [
              "<Figure size 800x600 with 1 Axes>"
            ],
            "image/png": "[encoded data removed]"
          },
          "metadata": {}
        },
        {
          "output_type": "stream",
          "name": "stdout",
          "text": [
            "AUC-ROC Score for XGBoost: 0.762122\n",
            "AUC-ROC Score for Logistic Regression: 0.845262\n",
            "AUC-ROC Score for SVM: 0.763357\n",
            "AUC-ROC Score for KNN: 0.638911\n"
          ]
        }
      ]
    },
    {
      "cell_type": "markdown",
      "source": [
        "parital dependence\n"
      ],
      "metadata": {
        "id": "bKuc2SuLRcpN"
      }
    },
    {
      "cell_type": "code",
      "source": [
        "numeric_features = X.select_dtypes(include=['int64', 'float64']).columns\n",
        "categorical_features = X.select_dtypes(include=['object']).columns\n",
        "numeric_transformer = Pipeline(steps=[\n",
        "    ('imputer', SimpleImputer(strategy='mean')),\n",
        "\n",
        "])\n",
        "\n",
        "categorical_transformer = Pipeline(steps=[\n",
        "    ('imputer', SimpleImputer(strategy='most_frequent')),  # Impute missing values with most frequent\n",
        "    ('onehot', OneHotEncoder(handle_unknown='ignore'))  # One-hot encode categorical columns\n",
        "])\n",
        "\n",
        "preprocessor2 = ColumnTransformer(\n",
        "    transformers=[\n",
        "        ('num', numeric_transformer, numeric_features),\n",
        "        ('cat', categorical_transformer, categorical_features)\n",
        "    ]\n",
        ")\n",
        "\n",
        "\n"
      ],
      "metadata": {
        "id": "cQ57hEylSJ8R"
      },
      "execution_count": 22,
      "outputs": []
    },
    {
      "cell_type": "code",
      "source": [
        "from imblearn.over_sampling import SMOTE\n",
        "import pandas as pd\n",
        "\n",
        "X_train_onehot = preprocessor2.fit_transform(X_train)\n",
        "X_test_onehot = preprocessor2.fit_transform(X_test)\n",
        "onehot_feature_names = preprocessor2.transformers_[1][1].get_feature_names_out(input_features=categorical_features)\n",
        "onehot_feature_names_train = onehot_feature_names[onehot_feature_names != 'gender_Other']\n",
        "X_train_onehot_df = pd.DataFrame(X_train_onehot,columns = list(numeric_features)+list(onehot_feature_names_train))\n",
        "X_test_onehot_df = pd.DataFrame(X_test_onehot,columns = list(numeric_features)+list(onehot_feature_names))\n",
        "X_test_onehot_df.drop(columns=['gender_Other'], inplace=True)\n",
        "\n",
        "\n",
        "# Assuming 'X' and 'y' are your feature and target variables\n",
        "smote = SMOTE(random_state=42)\n",
        "X_smote, y_smote = smote.fit_resample(X_train_onehot, y_train)\n",
        "X_smote_df = pd.DataFrame(X_smote, columns=X_train_onehot_df.columns)\n",
        "\n"
      ],
      "metadata": {
        "id": "W1MUzj2_SB-B"
      },
      "execution_count": 24,
      "outputs": []
    },
    {
      "cell_type": "code",
      "source": [
        "from sklearn.linear_model import LogisticRegression\n",
        "from sklearn.metrics import accuracy_score\n",
        "from sklearn.pipeline import Pipeline\n",
        "\n",
        "# Define the logistic regression model\n",
        "logistic_model = LogisticRegression(random_state=42)\n",
        "\n",
        "# Define the pipeline including logistic regression model\n",
        "logistic_pipeline = Pipeline(steps=[\n",
        "    ('classifier', logistic_model)\n",
        "])\n",
        "\n",
        "# Fit the model on the SMOTE training data\n",
        "logistic_pipeline.fit(X_smote_df, y_smote)\n",
        "\n",
        "# Make predictions on the training and testing sets\n",
        "y_train_pred_logistic = logistic_pipeline.predict(X_smote_df)\n",
        "y_test_pred_logistic = logistic_pipeline.predict(X_test_onehot_df)\n",
        "\n",
        "# Calculate accuracy for training and testing sets\n",
        "train_accuracy_logistic = accuracy_score(y_smote, y_train_pred_logistic)\n",
        "test_accuracy_logistic = accuracy_score(y_test, y_test_pred_logistic)\n",
        "train_f1_logistic = f1_score(y_smote, y_train_pred_logistic)\n",
        "test_f1_logistic = f1_score(y_test, y_test_pred_logistic)\n",
        "\n",
        "\n",
        "print(f'Train Accuracy (Logistic Regression): {train_accuracy_logistic:.6f}')\n",
        "print(f'Test Accuracy (Logistic Regression): {test_accuracy_logistic:.6f}')\n",
        "print(f'Train F1 Score (Logistic Regression): {train_f1_logistic:.6f}')\n",
        "print(f'Test F1 Score (Logistic Regression): {test_f1_logistic:.6f}')"
      ],
      "metadata": {
        "colab": {
          "base_uri": "https://localhost:8080/"
        },
        "id": "NFnOYjijS_TJ",
        "outputId": "01b322d9-5608-4eaf-fc75-90293d7d2e31"
      },
      "execution_count": 26,
      "outputs": [
        {
          "output_type": "stream",
          "name": "stdout",
          "text": [
            "Train Accuracy (Logistic Regression): 0.778390\n",
            "Test Accuracy (Logistic Regression): 0.754403\n",
            "Train F1 Score (Logistic Regression): 0.786464\n",
            "Test F1 Score (Logistic Regression): 0.272464\n"
          ]
        },
        {
          "output_type": "stream",
          "name": "stderr",
          "text": [
            "/usr/local/lib/python3.10/dist-packages/sklearn/linear_model/_logistic.py:458: ConvergenceWarning: lbfgs failed to converge (status=1):\n",
            "STOP: TOTAL NO. of ITERATIONS REACHED LIMIT.\n",
            "\n",
            "Increase the number of iterations (max_iter) or scale the data as shown in:\n",
            "    https://scikit-learn.org/stable/modules/preprocessing.html\n",
            "Please also refer to the documentation for alternative solver options:\n",
            "    https://scikit-learn.org/stable/modules/linear_model.html#logistic-regression\n",
            "  n_iter_i = _check_optimize_result(\n"
          ]
        }
      ]
    },
    {
      "cell_type": "code",
      "source": [
        "from sklearn.inspection import PartialDependenceDisplay, partial_dependence\n",
        "\n",
        "# Assuming logistic_pipeline is your fitted logistic regression pipeline\n",
        "# Assuming X_train_onehot_df is your feature matrix after preprocessing\n",
        "\n",
        "# Specify the features for which you want to create partial dependence plots\n",
        "features = ['age', 'avg_glucose_level', 'bmi']\n",
        "\n",
        "# Compute partial dependence for the specified features\n",
        "partial_dependence_results = partial_dependence(\n",
        "    logistic_pipeline.named_steps['classifier'],  # Reference to your classifier in the pipeline\n",
        "    X_train_onehot_df,  # The data used for training\n",
        "    features=features,\n",
        "    grid_resolution=10  # Number of points to evaluate along each feature\n",
        ")\n",
        "\n",
        "# Create and display the partial dependence plots\n",
        "pdp_display = PartialDependenceDisplay.from_estimator(\n",
        "    logistic_pipeline.named_steps['classifier'],\n",
        "    X_train_onehot_df,\n",
        "    features  # The features to plot\n",
        ")\n",
        "\n",
        "\n"
      ],
      "metadata": {
        "colab": {
          "base_uri": "https://localhost:8080/",
          "height": 450
        },
        "id": "WCJvxwxQReYn",
        "outputId": "0ebce973-9405-409d-c017-8990dce48cfe"
      },
      "execution_count": 29,
      "outputs": [
        {
          "output_type": "display_data",
          "data": {
            "text/plain": [
              "<Figure size 640x480 with 4 Axes>"
            ],
            "image/png": "[encoded data removed]"
          },
          "metadata": {}
        }
      ]
    },
    {
      "cell_type": "code",
      "source": [],
      "metadata": {
        "id": "hxi7tyrr3MAm"
      },
      "execution_count": null,
      "outputs": []
    }
  ]
}